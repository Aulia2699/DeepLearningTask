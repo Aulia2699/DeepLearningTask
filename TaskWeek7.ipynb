{
  "nbformat": 4,
  "nbformat_minor": 0,
  "metadata": {
    "colab": {
      "provenance": [],
      "gpuType": "T4",
      "authorship_tag": "ABX9TyMeMM4e9ERyhZZIIIYF9juB",
      "include_colab_link": true
    },
    "kernelspec": {
      "name": "python3",
      "display_name": "Python 3"
    },
    "language_info": {
      "name": "python"
    },
    "accelerator": "GPU"
  },
  "cells": [
    {
      "cell_type": "markdown",
      "metadata": {
        "id": "view-in-github",
        "colab_type": "text"
      },
      "source": [
        "<a href=\"https://colab.research.google.com/github/Aulia2699/DeepLearningTask/blob/main/TaskWeek7.ipynb\" target=\"_parent\"><img src=\"https://colab.research.google.com/assets/colab-badge.svg\" alt=\"Open In Colab\"/></a>"
      ]
    },
    {
      "cell_type": "markdown",
      "source": [
        "NAMA  : AULIA RAHMA\n",
        "\n",
        "NPM   : 2306319426"
      ],
      "metadata": {
        "id": "ZAetMSziz-83"
      }
    },
    {
      "cell_type": "code",
      "source": [
        "!pip install transformers\n",
        "import torch\n",
        "from transformers import pipeline, AutoTokenizer, AutoModelForSequenceClassification\n",
        "\n",
        "# Load the model using the pipeline\n",
        "pipe = pipeline(\"text-classification\", model=\"mrm8488/deberta-v3-ft-financial-news-sentiment-analysis\")\n",
        "\n",
        "# Load the model and tokenizer directly\n",
        "tokenizer = AutoTokenizer.from_pretrained(\"mrm8488/deberta-v3-ft-financial-news-sentiment-analysis\")\n",
        "model = AutoModelForSequenceClassification.from_pretrained(\"mrm8488/deberta-v3-ft-financial-news-sentiment-analysis\")\n"
      ],
      "metadata": {
        "colab": {
          "base_uri": "https://localhost:8080/"
        },
        "id": "WC_ojW8FoxxI",
        "outputId": "71e949dd-32c5-4c04-a0ac-a0291ff40cef"
      },
      "execution_count": 6,
      "outputs": [
        {
          "output_type": "stream",
          "name": "stdout",
          "text": [
            "Requirement already satisfied: transformers in /usr/local/lib/python3.10/dist-packages (4.44.2)\n",
            "Requirement already satisfied: filelock in /usr/local/lib/python3.10/dist-packages (from transformers) (3.16.1)\n",
            "Requirement already satisfied: huggingface-hub<1.0,>=0.23.2 in /usr/local/lib/python3.10/dist-packages (from transformers) (0.24.7)\n",
            "Requirement already satisfied: numpy>=1.17 in /usr/local/lib/python3.10/dist-packages (from transformers) (1.26.4)\n",
            "Requirement already satisfied: packaging>=20.0 in /usr/local/lib/python3.10/dist-packages (from transformers) (24.1)\n",
            "Requirement already satisfied: pyyaml>=5.1 in /usr/local/lib/python3.10/dist-packages (from transformers) (6.0.2)\n",
            "Requirement already satisfied: regex!=2019.12.17 in /usr/local/lib/python3.10/dist-packages (from transformers) (2024.9.11)\n",
            "Requirement already satisfied: requests in /usr/local/lib/python3.10/dist-packages (from transformers) (2.32.3)\n",
            "Requirement already satisfied: safetensors>=0.4.1 in /usr/local/lib/python3.10/dist-packages (from transformers) (0.4.5)\n",
            "Requirement already satisfied: tokenizers<0.20,>=0.19 in /usr/local/lib/python3.10/dist-packages (from transformers) (0.19.1)\n",
            "Requirement already satisfied: tqdm>=4.27 in /usr/local/lib/python3.10/dist-packages (from transformers) (4.66.5)\n",
            "Requirement already satisfied: fsspec>=2023.5.0 in /usr/local/lib/python3.10/dist-packages (from huggingface-hub<1.0,>=0.23.2->transformers) (2024.6.1)\n",
            "Requirement already satisfied: typing-extensions>=3.7.4.3 in /usr/local/lib/python3.10/dist-packages (from huggingface-hub<1.0,>=0.23.2->transformers) (4.12.2)\n",
            "Requirement already satisfied: charset-normalizer<4,>=2 in /usr/local/lib/python3.10/dist-packages (from requests->transformers) (3.4.0)\n",
            "Requirement already satisfied: idna<4,>=2.5 in /usr/local/lib/python3.10/dist-packages (from requests->transformers) (3.10)\n",
            "Requirement already satisfied: urllib3<3,>=1.21.1 in /usr/local/lib/python3.10/dist-packages (from requests->transformers) (2.2.3)\n",
            "Requirement already satisfied: certifi>=2017.4.17 in /usr/local/lib/python3.10/dist-packages (from requests->transformers) (2024.8.30)\n"
          ]
        },
        {
          "output_type": "stream",
          "name": "stderr",
          "text": [
            "Hardware accelerator e.g. GPU is available in the environment, but no `device` argument is passed to the `Pipeline` object. Model will be on CPU.\n"
          ]
        }
      ]
    },
    {
      "cell_type": "code",
      "source": [
        "# Create a synthetic dataset\n",
        "synthetic_data = [\n",
        "    {\"text\": \"The company reported excellent profits this quarter.\", \"label\": \"POSITIVE\"},\n",
        "    {\"text\": \"The stock prices are expected to fall.\", \"label\": \"NEGATIVE\"},\n",
        "    {\"text\": \"Sales have increased significantly.\", \"label\": \"POSITIVE\"},\n",
        "    {\"text\": \"There are concerns about the new policies.\", \"label\": \"NEGATIVE\"},\n",
        "    {\"text\": \"Investors are optimistic about the future.\", \"label\": \"POSITIVE\"},\n",
        "]\n",
        "\n",
        "# Split into texts and labels\n",
        "texts = [item[\"text\"] for item in synthetic_data]\n",
        "labels = [item[\"label\"] for item in synthetic_data]\n"
      ],
      "metadata": {
        "id": "iKF9HAcco6OG"
      },
      "execution_count": 7,
      "outputs": []
    },
    {
      "cell_type": "code",
      "source": [
        "from sklearn.metrics import accuracy_score\n",
        "\n",
        "# Run predictions\n",
        "predictions = pipe(texts)\n",
        "predicted_labels = [pred['label'] for pred in predictions]\n",
        "\n",
        "# Calculate accuracy\n",
        "accuracy = accuracy_score(labels, predicted_labels)\n",
        "print(f'Initial Model Accuracy: {accuracy:.2f}')\n"
      ],
      "metadata": {
        "colab": {
          "base_uri": "https://localhost:8080/"
        },
        "id": "d1rByOzLpACL",
        "outputId": "f8355427-fdf0-4e10-da22-87e90a5b8686"
      },
      "execution_count": 3,
      "outputs": [
        {
          "output_type": "stream",
          "name": "stdout",
          "text": [
            "Initial Model Accuracy: 0.00\n"
          ]
        }
      ]
    },
    {
      "cell_type": "code",
      "source": [
        "from transformers import DebertaV2Model\n",
        "import torch.nn as nn\n",
        "\n",
        "class CustomDebertaModel(nn.Module):\n",
        "    def __init__(self, model_name):\n",
        "        super(CustomDebertaModel, self).__init__()\n",
        "        self.deberta = DebertaV2Model.from_pretrained(model_name)\n",
        "        self.classifier = nn.Linear(self.deberta.config.hidden_size, 2)  # Assuming binary classification\n",
        "\n",
        "    def forward(self, input_ids, attention_mask):\n",
        "        outputs = self.deberta(input_ids=input_ids, attention_mask=attention_mask)\n",
        "        logits = self.classifier(outputs.last_hidden_state[:, 0, :])  # Take the output of the first token\n",
        "        return logits\n",
        "\n",
        "# Initialize the custom model\n",
        "custom_model = CustomDebertaModel(\"mrm8488/deberta-v3-ft-financial-news-sentiment-analysis\")\n"
      ],
      "metadata": {
        "id": "mJIB5xZOpEQM"
      },
      "execution_count": 4,
      "outputs": []
    },
    {
      "cell_type": "code",
      "source": [
        "# Prepare the inputs\n",
        "inputs = tokenizer(texts, padding=True, truncation=True, return_tensors=\"pt\")\n",
        "\n",
        "# Get the model outputs\n",
        "with torch.no_grad():\n",
        "    custom_outputs = custom_model(inputs['input_ids'], inputs['attention_mask'])\n",
        "\n",
        "# Apply softmax to get probabilities and predictions\n",
        "predicted_labels_custom = torch.argmax(torch.softmax(custom_outputs, dim=1), dim=1).numpy()\n",
        "\n",
        "# Map numerical labels back to original labels for comparison\n",
        "predicted_labels_custom = ['POSITIVE' if pred == 1 else 'NEGATIVE' for pred in predicted_labels_custom]\n",
        "\n",
        "# Calculate new accuracy\n",
        "accuracy_custom = accuracy_score(labels, predicted_labels_custom)\n",
        "print(f'Custom Model Accuracy: {accuracy_custom:.2f}')\n"
      ],
      "metadata": {
        "colab": {
          "base_uri": "https://localhost:8080/"
        },
        "id": "uhB7xT6XpL5q",
        "outputId": "47ebde31-a348-4d81-b67b-5a60f66a4143"
      },
      "execution_count": 5,
      "outputs": [
        {
          "output_type": "stream",
          "name": "stderr",
          "text": [
            "Asking to truncate to max_length but no maximum length is provided and the model has no predefined maximum length. Default to no truncation.\n"
          ]
        },
        {
          "output_type": "stream",
          "name": "stdout",
          "text": [
            "Custom Model Accuracy: 0.60\n"
          ]
        }
      ]
    }
  ]
}